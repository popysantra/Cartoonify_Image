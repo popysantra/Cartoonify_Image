{
  "nbformat": 4,
  "nbformat_minor": 0,
  "metadata": {
    "colab": {
      "provenance": []
    },
    "kernelspec": {
      "name": "python3",
      "display_name": "Python 3"
    },
    "language_info": {
      "name": "python"
    }
  },
  "cells": [
    {
      "cell_type": "code",
      "execution_count": 14,
      "metadata": {
        "id": "8qROhgenmLhu"
      },
      "outputs": [],
      "source": [
        "import cv2\n",
        "import numpy as np"
      ]
    },
    {
      "cell_type": "code",
      "source": [
        "def read_img(filename):\n",
        "  img=cv2.imread(filename)\n",
        "  return img"
      ],
      "metadata": {
        "id": "KnqJQfWFmauL"
      },
      "execution_count": 15,
      "outputs": []
    },
    {
      "cell_type": "code",
      "source": [
        "def edge_detection(img,line_wdt,blur):\n",
        "  gray = cv2.cvtColor(img,cv2.COLOR_BGR2GRAY)\n",
        "  grayBlur= cv2.medianBlur(gray,blur)\n",
        "  edges = cv2.adaptiveThreshold(grayBlur, 255, cv2.ADAPTIVE_THRESH_MEAN_C,cv2.THRESH_BINARY, line_wdt, blur)\n",
        "  return edges"
      ],
      "metadata": {
        "id": "JbZuJEa1mtI6"
      },
      "execution_count": 16,
      "outputs": []
    },
    {
      "cell_type": "code",
      "source": [
        "def color_quantisation(img,k):\n",
        "    data=np.float32(img).reshape((-1,3))\n",
        "    criteria = (cv2.TermCriteria_EPS + cv2.TERM_CRITERIA_MAX_ITER,20,0.001)\n",
        "    ret, label, center = cv2.kmeans(data,k,None,criteria,10,cv2.KMEANS_RANDOM_CENTERS)\n",
        "    center = np.uint8(center)\n",
        "    result = center[label.flatten()]\n",
        "    result = result.reshape(img.shape)\n",
        "    return result"
      ],
      "metadata": {
        "id": "f1iUwprwoc6k"
      },
      "execution_count": 17,
      "outputs": []
    },
    {
      "cell_type": "code",
      "source": [],
      "metadata": {
        "id": "ManVvSNAtBmi"
      },
      "execution_count": null,
      "outputs": []
    },
    {
      "cell_type": "code",
      "source": [
        "img=read_img('/content/ME.jpg')\n",
        "line_wdt= 9\n",
        "blur_value= 7\n",
        "totalColors= 4\n",
        "\n",
        "edgeImg = edge_detection(img,line_wdt,blur_value)\n",
        "img = color_quantisation(img,totalColors)\n",
        "blurred = cv2.bilateralFilter(img, d=7, sigmaColor=200, sigmaSpace=200)\n",
        "cartoon =cv2.bitwise_and(blurred,blurred,mask = edgeImg)\n",
        "cv2.imwrite('cartoon.jpg',cartoon)"
      ],
      "metadata": {
        "colab": {
          "base_uri": "https://localhost:8080/"
        },
        "id": "LSVzXuJjp71j",
        "outputId": "507eea67-be45-4af3-e260-f4fe1c1bf02e"
      },
      "execution_count": 19,
      "outputs": [
        {
          "output_type": "execute_result",
          "data": {
            "text/plain": [
              "True"
            ]
          },
          "metadata": {},
          "execution_count": 19
        }
      ]
    },
    {
      "cell_type": "code",
      "source": [],
      "metadata": {
        "id": "-oTyQqlItDOz"
      },
      "execution_count": null,
      "outputs": []
    },
    {
      "cell_type": "code",
      "source": [],
      "metadata": {
        "id": "Bv6caZAwsiXY"
      },
      "execution_count": null,
      "outputs": []
    },
    {
      "cell_type": "code",
      "source": [],
      "metadata": {
        "id": "ytK5RdADp4CM"
      },
      "execution_count": null,
      "outputs": []
    }
  ]
}